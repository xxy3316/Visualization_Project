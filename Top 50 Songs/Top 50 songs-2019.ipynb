{
 "cells": [
  {
   "cell_type": "code",
   "execution_count": 1,
   "id": "4af7b16b",
   "metadata": {},
   "outputs": [],
   "source": [
    "import pandas as pd\n",
    "import numpy as np"
   ]
  },
  {
   "cell_type": "code",
   "execution_count": 4,
   "id": "43790a2e",
   "metadata": {},
   "outputs": [],
   "source": [
    "data = pd.read_csv('top50.csv',encoding='latin')"
   ]
  },
  {
   "cell_type": "code",
   "execution_count": 5,
   "id": "c4c11e59",
   "metadata": {},
   "outputs": [
    {
     "name": "stdout",
     "output_type": "stream",
     "text": [
      "<class 'pandas.core.frame.DataFrame'>\n",
      "RangeIndex: 50 entries, 0 to 49\n",
      "Data columns (total 14 columns):\n",
      " #   Column            Non-Null Count  Dtype \n",
      "---  ------            --------------  ----- \n",
      " 0   Unnamed: 0        50 non-null     int64 \n",
      " 1   Track.Name        50 non-null     object\n",
      " 2   Artist.Name       50 non-null     object\n",
      " 3   Genre             50 non-null     object\n",
      " 4   Beats.Per.Minute  50 non-null     int64 \n",
      " 5   Energy            50 non-null     int64 \n",
      " 6   Danceability      50 non-null     int64 \n",
      " 7   Loudness..dB..    50 non-null     int64 \n",
      " 8   Liveness          50 non-null     int64 \n",
      " 9   Valence.          50 non-null     int64 \n",
      " 10  Length.           50 non-null     int64 \n",
      " 11  Acousticness..    50 non-null     int64 \n",
      " 12  Speechiness.      50 non-null     int64 \n",
      " 13  Popularity        50 non-null     int64 \n",
      "dtypes: int64(11), object(3)\n",
      "memory usage: 5.6+ KB\n"
     ]
    }
   ],
   "source": [
    "data.info()"
   ]
  },
  {
   "cell_type": "code",
   "execution_count": 6,
   "id": "a016f7af",
   "metadata": {},
   "outputs": [
    {
     "data": {
      "text/plain": [
       "Unnamed: 0          0\n",
       "Track.Name          0\n",
       "Artist.Name         0\n",
       "Genre               0\n",
       "Beats.Per.Minute    0\n",
       "Energy              0\n",
       "Danceability        0\n",
       "Loudness..dB..      0\n",
       "Liveness            0\n",
       "Valence.            0\n",
       "Length.             0\n",
       "Acousticness..      0\n",
       "Speechiness.        0\n",
       "Popularity          0\n",
       "dtype: int64"
      ]
     },
     "execution_count": 6,
     "metadata": {},
     "output_type": "execute_result"
    }
   ],
   "source": [
    "data.isna().sum()"
   ]
  },
  {
   "cell_type": "code",
   "execution_count": 7,
   "id": "9d0856a1",
   "metadata": {},
   "outputs": [
    {
     "data": {
      "text/html": [
       "<div>\n",
       "<style scoped>\n",
       "    .dataframe tbody tr th:only-of-type {\n",
       "        vertical-align: middle;\n",
       "    }\n",
       "\n",
       "    .dataframe tbody tr th {\n",
       "        vertical-align: top;\n",
       "    }\n",
       "\n",
       "    .dataframe thead th {\n",
       "        text-align: right;\n",
       "    }\n",
       "</style>\n",
       "<table border=\"1\" class=\"dataframe\">\n",
       "  <thead>\n",
       "    <tr style=\"text-align: right;\">\n",
       "      <th></th>\n",
       "      <th>Unnamed: 0</th>\n",
       "      <th>Beats.Per.Minute</th>\n",
       "      <th>Energy</th>\n",
       "      <th>Danceability</th>\n",
       "      <th>Loudness..dB..</th>\n",
       "      <th>Liveness</th>\n",
       "      <th>Valence.</th>\n",
       "      <th>Length.</th>\n",
       "      <th>Acousticness..</th>\n",
       "      <th>Speechiness.</th>\n",
       "      <th>Popularity</th>\n",
       "    </tr>\n",
       "  </thead>\n",
       "  <tbody>\n",
       "    <tr>\n",
       "      <th>count</th>\n",
       "      <td>50.00000</td>\n",
       "      <td>50.000000</td>\n",
       "      <td>50.000000</td>\n",
       "      <td>50.00000</td>\n",
       "      <td>50.000000</td>\n",
       "      <td>50.000000</td>\n",
       "      <td>50.000000</td>\n",
       "      <td>50.000000</td>\n",
       "      <td>50.000000</td>\n",
       "      <td>50.000000</td>\n",
       "      <td>50.000000</td>\n",
       "    </tr>\n",
       "    <tr>\n",
       "      <th>mean</th>\n",
       "      <td>25.50000</td>\n",
       "      <td>120.060000</td>\n",
       "      <td>64.060000</td>\n",
       "      <td>71.38000</td>\n",
       "      <td>-5.660000</td>\n",
       "      <td>14.660000</td>\n",
       "      <td>54.600000</td>\n",
       "      <td>200.960000</td>\n",
       "      <td>22.160000</td>\n",
       "      <td>12.480000</td>\n",
       "      <td>87.500000</td>\n",
       "    </tr>\n",
       "    <tr>\n",
       "      <th>std</th>\n",
       "      <td>14.57738</td>\n",
       "      <td>30.898392</td>\n",
       "      <td>14.231913</td>\n",
       "      <td>11.92988</td>\n",
       "      <td>2.056448</td>\n",
       "      <td>11.118306</td>\n",
       "      <td>22.336024</td>\n",
       "      <td>39.143879</td>\n",
       "      <td>18.995553</td>\n",
       "      <td>11.161596</td>\n",
       "      <td>4.491489</td>\n",
       "    </tr>\n",
       "    <tr>\n",
       "      <th>min</th>\n",
       "      <td>1.00000</td>\n",
       "      <td>85.000000</td>\n",
       "      <td>32.000000</td>\n",
       "      <td>29.00000</td>\n",
       "      <td>-11.000000</td>\n",
       "      <td>5.000000</td>\n",
       "      <td>10.000000</td>\n",
       "      <td>115.000000</td>\n",
       "      <td>1.000000</td>\n",
       "      <td>3.000000</td>\n",
       "      <td>70.000000</td>\n",
       "    </tr>\n",
       "    <tr>\n",
       "      <th>25%</th>\n",
       "      <td>13.25000</td>\n",
       "      <td>96.000000</td>\n",
       "      <td>55.250000</td>\n",
       "      <td>67.00000</td>\n",
       "      <td>-6.750000</td>\n",
       "      <td>8.000000</td>\n",
       "      <td>38.250000</td>\n",
       "      <td>176.750000</td>\n",
       "      <td>8.250000</td>\n",
       "      <td>5.000000</td>\n",
       "      <td>86.000000</td>\n",
       "    </tr>\n",
       "    <tr>\n",
       "      <th>50%</th>\n",
       "      <td>25.50000</td>\n",
       "      <td>104.500000</td>\n",
       "      <td>66.500000</td>\n",
       "      <td>73.50000</td>\n",
       "      <td>-6.000000</td>\n",
       "      <td>11.000000</td>\n",
       "      <td>55.500000</td>\n",
       "      <td>198.000000</td>\n",
       "      <td>15.000000</td>\n",
       "      <td>7.000000</td>\n",
       "      <td>88.000000</td>\n",
       "    </tr>\n",
       "    <tr>\n",
       "      <th>75%</th>\n",
       "      <td>37.75000</td>\n",
       "      <td>137.500000</td>\n",
       "      <td>74.750000</td>\n",
       "      <td>79.75000</td>\n",
       "      <td>-4.000000</td>\n",
       "      <td>15.750000</td>\n",
       "      <td>69.500000</td>\n",
       "      <td>217.500000</td>\n",
       "      <td>33.750000</td>\n",
       "      <td>15.000000</td>\n",
       "      <td>90.750000</td>\n",
       "    </tr>\n",
       "    <tr>\n",
       "      <th>max</th>\n",
       "      <td>50.00000</td>\n",
       "      <td>190.000000</td>\n",
       "      <td>88.000000</td>\n",
       "      <td>90.00000</td>\n",
       "      <td>-2.000000</td>\n",
       "      <td>58.000000</td>\n",
       "      <td>95.000000</td>\n",
       "      <td>309.000000</td>\n",
       "      <td>75.000000</td>\n",
       "      <td>46.000000</td>\n",
       "      <td>95.000000</td>\n",
       "    </tr>\n",
       "  </tbody>\n",
       "</table>\n",
       "</div>"
      ],
      "text/plain": [
       "       Unnamed: 0  Beats.Per.Minute     Energy  Danceability  Loudness..dB..  \\\n",
       "count    50.00000         50.000000  50.000000      50.00000       50.000000   \n",
       "mean     25.50000        120.060000  64.060000      71.38000       -5.660000   \n",
       "std      14.57738         30.898392  14.231913      11.92988        2.056448   \n",
       "min       1.00000         85.000000  32.000000      29.00000      -11.000000   \n",
       "25%      13.25000         96.000000  55.250000      67.00000       -6.750000   \n",
       "50%      25.50000        104.500000  66.500000      73.50000       -6.000000   \n",
       "75%      37.75000        137.500000  74.750000      79.75000       -4.000000   \n",
       "max      50.00000        190.000000  88.000000      90.00000       -2.000000   \n",
       "\n",
       "        Liveness   Valence.     Length.  Acousticness..  Speechiness.  \\\n",
       "count  50.000000  50.000000   50.000000       50.000000     50.000000   \n",
       "mean   14.660000  54.600000  200.960000       22.160000     12.480000   \n",
       "std    11.118306  22.336024   39.143879       18.995553     11.161596   \n",
       "min     5.000000  10.000000  115.000000        1.000000      3.000000   \n",
       "25%     8.000000  38.250000  176.750000        8.250000      5.000000   \n",
       "50%    11.000000  55.500000  198.000000       15.000000      7.000000   \n",
       "75%    15.750000  69.500000  217.500000       33.750000     15.000000   \n",
       "max    58.000000  95.000000  309.000000       75.000000     46.000000   \n",
       "\n",
       "       Popularity  \n",
       "count   50.000000  \n",
       "mean    87.500000  \n",
       "std      4.491489  \n",
       "min     70.000000  \n",
       "25%     86.000000  \n",
       "50%     88.000000  \n",
       "75%     90.750000  \n",
       "max     95.000000  "
      ]
     },
     "execution_count": 7,
     "metadata": {},
     "output_type": "execute_result"
    }
   ],
   "source": [
    "data.describe()"
   ]
  },
  {
   "cell_type": "code",
   "execution_count": 12,
   "id": "6deaa98a",
   "metadata": {},
   "outputs": [
    {
     "name": "stdout",
     "output_type": "stream",
     "text": [
      "50\n",
      "38\n",
      "21\n"
     ]
    }
   ],
   "source": [
    "print(len(data['Track.Name'].unique()))\n",
    "print(len(data['Artist.Name'].unique()))\n",
    "print(len(data['Genre'].unique()))"
   ]
  },
  {
   "cell_type": "code",
   "execution_count": 8,
   "id": "5a842857",
   "metadata": {},
   "outputs": [],
   "source": [
    "data.to_csv('cleaned_data.csv',index= False)"
   ]
  },
  {
   "cell_type": "code",
   "execution_count": null,
   "id": "e2e4ba35",
   "metadata": {},
   "outputs": [],
   "source": []
  }
 ],
 "metadata": {
  "kernelspec": {
   "display_name": "Python 3 (ipykernel)",
   "language": "python",
   "name": "python3"
  },
  "language_info": {
   "codemirror_mode": {
    "name": "ipython",
    "version": 3
   },
   "file_extension": ".py",
   "mimetype": "text/x-python",
   "name": "python",
   "nbconvert_exporter": "python",
   "pygments_lexer": "ipython3",
   "version": "3.9.12"
  }
 },
 "nbformat": 4,
 "nbformat_minor": 5
}
