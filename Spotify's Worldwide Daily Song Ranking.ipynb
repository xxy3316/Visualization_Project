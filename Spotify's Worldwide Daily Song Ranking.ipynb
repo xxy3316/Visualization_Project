{
 "cells": [
  {
   "cell_type": "code",
   "execution_count": 2,
   "id": "0ea075e1",
   "metadata": {},
   "outputs": [],
   "source": [
    "import pandas as pd\n",
    "import numpy as np"
   ]
  },
  {
   "cell_type": "code",
   "execution_count": 3,
   "id": "5f21e0a3",
   "metadata": {},
   "outputs": [],
   "source": [
    "data = pd.read_csv('Daily song ranking.csv')"
   ]
  },
  {
   "cell_type": "code",
   "execution_count": 4,
   "id": "d2f58735",
   "metadata": {},
   "outputs": [
    {
     "name": "stdout",
     "output_type": "stream",
     "text": [
      "<class 'pandas.core.frame.DataFrame'>\n",
      "RangeIndex: 3441197 entries, 0 to 3441196\n",
      "Data columns (total 7 columns):\n",
      " #   Column      Dtype \n",
      "---  ------      ----- \n",
      " 0   Position    int64 \n",
      " 1   Track Name  object\n",
      " 2   Artist      object\n",
      " 3   Streams     int64 \n",
      " 4   URL         object\n",
      " 5   Date        object\n",
      " 6   Region      object\n",
      "dtypes: int64(2), object(5)\n",
      "memory usage: 183.8+ MB\n"
     ]
    }
   ],
   "source": [
    "data.info()"
   ]
  },
  {
   "cell_type": "code",
   "execution_count": 6,
   "id": "1f75c782",
   "metadata": {},
   "outputs": [],
   "source": [
    "data = data.drop('URL', axis=1)"
   ]
  },
  {
   "cell_type": "code",
   "execution_count": 7,
   "id": "2e9c0457",
   "metadata": {},
   "outputs": [
    {
     "data": {
      "text/plain": [
       "Position        0\n",
       "Track Name    657\n",
       "Artist        657\n",
       "Streams         0\n",
       "Date            0\n",
       "Region          0\n",
       "dtype: int64"
      ]
     },
     "execution_count": 7,
     "metadata": {},
     "output_type": "execute_result"
    }
   ],
   "source": [
    "data.isna().sum()"
   ]
  },
  {
   "cell_type": "code",
   "execution_count": 8,
   "id": "6a08029a",
   "metadata": {},
   "outputs": [],
   "source": [
    "data.dropna(inplace=True)"
   ]
  },
  {
   "cell_type": "code",
   "execution_count": 9,
   "id": "442d6cae",
   "metadata": {},
   "outputs": [
    {
     "data": {
      "text/plain": [
       "Position      0\n",
       "Track Name    0\n",
       "Artist        0\n",
       "Streams       0\n",
       "Date          0\n",
       "Region        0\n",
       "dtype: int64"
      ]
     },
     "execution_count": 9,
     "metadata": {},
     "output_type": "execute_result"
    }
   ],
   "source": [
    "data.isna().sum()"
   ]
  },
  {
   "cell_type": "code",
   "execution_count": 12,
   "id": "4fc41e80",
   "metadata": {},
   "outputs": [],
   "source": [
    "data.to_csv('cleaned_data.csv',index= False)"
   ]
  },
  {
   "cell_type": "code",
   "execution_count": null,
   "id": "2b8b9af7",
   "metadata": {},
   "outputs": [],
   "source": []
  }
 ],
 "metadata": {
  "kernelspec": {
   "display_name": "Python 3 (ipykernel)",
   "language": "python",
   "name": "python3"
  },
  "language_info": {
   "codemirror_mode": {
    "name": "ipython",
    "version": 3
   },
   "file_extension": ".py",
   "mimetype": "text/x-python",
   "name": "python",
   "nbconvert_exporter": "python",
   "pygments_lexer": "ipython3",
   "version": "3.9.12"
  }
 },
 "nbformat": 4,
 "nbformat_minor": 5
}
